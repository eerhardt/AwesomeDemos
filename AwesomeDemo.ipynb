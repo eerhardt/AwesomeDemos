{
 "cells": [
  {
   "cell_type": "code",
   "execution_count": null,
   "metadata": {},
   "outputs": [],
   "source": [
    "#r \"nuget:Microsoft.ML,1.4.0-preview\"\n",
    "#r \"nuget:Microsoft.ML.AutoML\"\n",
    "#r \"nuget:Microsoft.Data.DataFrame,1.0.0-e190910-1\""
   ]
  },
  {
   "cell_type": "code",
   "execution_count": null,
   "metadata": {},
   "outputs": [],
   "source": [
    "using Microsoft.Data;\n",
    "using XPlot.Plotly;"
   ]
  },
  {
   "cell_type": "code",
   "execution_count": null,
   "metadata": {},
   "outputs": [],
   "source": [
    "using Microsoft.AspNetCore.Html;\n",
    "Formatter<DataFrame>.Register((df, writer) =>\n",
    "{\n",
    "    var headers = new List<IHtmlContent>();\n",
    "    headers.Add(th(i(\"index\")));\n",
    "    headers.AddRange(df.Columns.Select(c => (IHtmlContent) th(c)));\n",
    "    var rows = new List<List<IHtmlContent>>();\n",
    "    var take = 20;\n",
    "    for (var i = 0; i < Math.Min(take, df.RowCount); i++)\n",
    "    {\n",
    "        var cells = new List<IHtmlContent>();\n",
    "        cells.Add(td(i));\n",
    "        foreach (var obj in df[i])\n",
    "        {\n",
    "            cells.Add(td(obj));\n",
    "        }\n",
    "        rows.Add(cells);\n",
    "    }\n",
    "    \n",
    "    var t = table(\n",
    "        thead(\n",
    "            headers),\n",
    "        tbody(\n",
    "            rows.Select(\n",
    "                r => tr(r))));\n",
    "    \n",
    "    writer.Write(t);\n",
    "}, \"text/html\");"
   ]
  },
  {
   "cell_type": "code",
   "execution_count": null,
   "metadata": {
    "scrolled": true
   },
   "outputs": [],
   "source": [
    "var housingData = DataFrame.ReadCsv(@\"F:\\LinuxShare\\housing.csv\");\n",
    "housingData\n"
   ]
  },
  {
   "cell_type": "code",
   "execution_count": null,
   "metadata": {},
   "outputs": [],
   "source": [
    "housingData.Description()"
   ]
  },
  {
   "cell_type": "code",
   "execution_count": null,
   "metadata": {},
   "outputs": [],
   "source": [
    "Chart.Plot(\n",
    "    new Graph.Histogram()\n",
    "    {\n",
    "        x = housingData[\"median_house_value\"],\n",
    "        nbinsx = 20\n",
    "    }\n",
    ")\n"
   ]
  },
  {
   "cell_type": "code",
   "execution_count": null,
   "metadata": {},
   "outputs": [],
   "source": [
    "var chart = Chart.Plot(\n",
    "    new Graph.Scatter()\n",
    "    {\n",
    "        x = housingData[\"longitude\"],\n",
    "        y = housingData[\"latitude\"],\n",
    "        mode = \"markers\",\n",
    "        marker = new Graph.Marker()\n",
    "        {\n",
    "            color = housingData[\"median_house_value\"],\n",
    "            colorscale = \"Jet\"\n",
    "        }\n",
    "    }\n",
    ");\n",
    "\n",
    "chart.Width = 600;\n",
    "chart.Height = 600;\n",
    "display(chart);"
   ]
  },
  {
   "cell_type": "code",
   "execution_count": null,
   "metadata": {},
   "outputs": [],
   "source": [
    "using Microsoft.ML;\n",
    "using Microsoft.ML.Data;\n",
    "using Microsoft.ML.AutoML;"
   ]
  },
  {
   "cell_type": "code",
   "execution_count": null,
   "metadata": {},
   "outputs": [],
   "source": [
    "%%time\n",
    "\n",
    "var mlContext = new MLContext();\n",
    "\n",
    "var experiment = mlContext.Auto().CreateRegressionExperiment(maxExperimentTimeInSeconds: 15);\n",
    "var result = experiment.Execute(housingData, labelColumnName:\"median_house_value\");"
   ]
  },
  {
   "cell_type": "code",
   "execution_count": null,
   "metadata": {},
   "outputs": [],
   "source": [
    "var scatters = result.RunDetails.GroupBy(\n",
    "    r => r.TrainerName,\n",
    "    (name, details) => new Graph.Scatter()\n",
    "    {\n",
    "        name = name,\n",
    "        x = details.Select(r => r.RuntimeInSeconds),\n",
    "        y = details.Select(r => r.ValidationMetrics.MeanAbsoluteError),\n",
    "        mode = \"markers\",\n",
    "        marker = new Graph.Marker() { size = 12 }\n",
    "    });\n",
    "\n",
    "var chart = Chart.Plot(scatters);\n",
    "chart.WithXTitle(\"Training Time\");\n",
    "chart.WithYTitle(\"Error\");\n",
    "display(chart);\n",
    "\n",
    "Console.WriteLine($\"Best Trainer:{result.BestRun.TrainerName}\");"
   ]
  },
  {
   "cell_type": "code",
   "execution_count": null,
   "metadata": {},
   "outputs": [],
   "source": [
    "var housing_test = DataFrame.ReadCsv(@\"F:\\LinuxShare\\housing_test.csv\");\n",
    "\n",
    "var testResults = result.BestRun.Model.Transform(housing_test);\n",
    "\n",
    "var trueValues = testResults.GetColumn<float>(\"median_house_value\");\n",
    "var predictedValues = testResults.GetColumn<float>(\"Score\");\n",
    "\n",
    "var predictedVsTrue = new Graph.Scatter()\n",
    "{\n",
    "    x = trueValues,\n",
    "    y = predictedValues,\n",
    "    mode = \"markers\",\n",
    "};\n",
    "\n",
    "var maximumValue = Math.Max(trueValues.Max(), predictedValues.Max());\n",
    "\n",
    "var perfectLine = new Graph.Scatter()\n",
    "{\n",
    "    x = new[] {0, maximumValue},\n",
    "    y = new[] {0, maximumValue},\n",
    "    mode = \"lines\",\n",
    "};\n",
    "\n",
    "var chart = Chart.Plot(new[] {predictedVsTrue, perfectLine });\n",
    "chart.WithXTitle(\"True Values\");\n",
    "chart.WithYTitle(\"Predicted Values\");\n",
    "chart.WithLegend(false);\n",
    "chart.Width = 600;\n",
    "chart.Height = 600;\n",
    "display(chart);"
   ]
  },
  {
   "cell_type": "code",
   "execution_count": null,
   "metadata": {},
   "outputs": [],
   "source": []
  }
 ],
 "metadata": {
  "kernelspec": {
   "display_name": ".NET",
   "language": "c#",
   "name": ".net"
  },
  "language_info": {
   "file_extension": ".cs",
   "mimetype": "text/x-csharp",
   "name": "C#",
   "pygments_lexer": "csharp",
   "version": "7.3"
  }
 },
 "nbformat": 4,
 "nbformat_minor": 4
}
